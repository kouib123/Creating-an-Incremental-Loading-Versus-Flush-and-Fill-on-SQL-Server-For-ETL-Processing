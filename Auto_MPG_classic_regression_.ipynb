{
  "nbformat": 4,
  "nbformat_minor": 0,
  "metadata": {
    "colab": {
      "provenance": [],
      "authorship_tag": "ABX9TyO+vNQUVj3lk87v0KnFz24z",
      "include_colab_link": true
    },
    "kernelspec": {
      "name": "python3",
      "display_name": "Python 3"
    },
    "language_info": {
      "name": "python"
    }
  },
  "cells": [
    {
      "cell_type": "markdown",
      "metadata": {
        "id": "view-in-github",
        "colab_type": "text"
      },
      "source": [
        "<a href=\"https://colab.research.google.com/github/kouib123/Creating-an-Incremental-Loading-Versus-Flush-and-Fill-on-SQL-Server-For-ETL-Processing/blob/master/Auto_MPG_classic_regression_.ipynb\" target=\"_parent\"><img src=\"https://colab.research.google.com/assets/colab-badge.svg\" alt=\"Open In Colab\"/></a>"
      ]
    },
    {
      "cell_type": "markdown",
      "source": [
        "*The Auto MPG dataset is a classic regression problem in which the goal is to predict a continuous numeric value, namely the miles per gallon (mpg) for a given car.*"
      ],
      "metadata": {
        "id": "pfZ8QAHixeEc"
      }
    },
    {
      "cell_type": "code",
      "execution_count": 43,
      "metadata": {
        "colab": {
          "base_uri": "https://localhost:8080/"
        },
        "id": "8y5gO6Bat2Ot",
        "outputId": "c06b640d-da39-414a-f83e-19edc2d87b74"
      },
      "outputs": [
        {
          "output_type": "stream",
          "name": "stdout",
          "text": [
            "    mpg  cylinders  displacement horsepower  weight  acceleration  model_year  \\\n",
            "0  18.0          8         307.0      130.0  3504.0          12.0          70   \n",
            "1  15.0          8         350.0      165.0  3693.0          11.5          70   \n",
            "2  18.0          8         318.0      150.0  3436.0          11.0          70   \n",
            "3  16.0          8         304.0      150.0  3433.0          12.0          70   \n",
            "4  17.0          8         302.0      140.0  3449.0          10.5          70   \n",
            "5  15.0          8         429.0      198.0  4341.0          10.0          70   \n",
            "6  14.0          8         454.0      220.0  4354.0           9.0          70   \n",
            "7  14.0          8         440.0      215.0  4312.0           8.5          70   \n",
            "8  14.0          8         455.0      225.0  4425.0          10.0          70   \n",
            "9  15.0          8         390.0      190.0  3850.0           8.5          70   \n",
            "\n",
            "   origin                   car_name  \n",
            "0       1  chevrolet chevelle malibu  \n",
            "1       1          buick skylark 320  \n",
            "2       1         plymouth satellite  \n",
            "3       1              amc rebel sst  \n",
            "4       1                ford torino  \n",
            "5       1           ford galaxie 500  \n",
            "6       1           chevrolet impala  \n",
            "7       1          plymouth fury iii  \n",
            "8       1           pontiac catalina  \n",
            "9       1         amc ambassador dpl  \n"
          ]
        }
      ],
      "source": [
        "import pandas as pd\n",
        "import numpy as np\n",
        "import requests\n",
        "\n",
        "url = \"https://archive.ics.uci.edu/ml/machine-learning-databases/auto-mpg/auto-mpg.data\"\n",
        "response = requests.get(url)\n",
        "\n",
        "# Write the contents of the response to a file\n",
        "with open('auto-mpg.data', 'w') as f:\n",
        "    f.write(response.text)\n",
        "\n",
        "# Read the file into a DataFrame\n",
        "df = pd.read_csv('auto-mpg.data', delim_whitespace=True, header=None, names=['mpg', 'cylinders', 'displacement', 'horsepower', 'weight', 'acceleration', 'model_year', \n",
        "                                                                             'origin', 'car_name'])\n",
        "\n",
        "print(df.head(10))"
      ]
    },
    {
      "cell_type": "code",
      "source": [
        "# Check for missing values:\n",
        "# Drop null rows\n",
        "df.dropna(axis=0, inplace=True)\n",
        "print(\"DataFrame shape after dropping null rows:\", df.shape)"
      ],
      "metadata": {
        "colab": {
          "base_uri": "https://localhost:8080/"
        },
        "id": "oyuKogjYugfc",
        "outputId": "65ebe1d1-fe8e-4eab-a528-9cc7ece0579a"
      },
      "execution_count": 44,
      "outputs": [
        {
          "output_type": "stream",
          "name": "stdout",
          "text": [
            "DataFrame shape after dropping null rows: (398, 9)\n"
          ]
        }
      ]
    },
    {
      "cell_type": "code",
      "source": [
        "# Check the statistical data\n",
        "print(df.describe())"
      ],
      "metadata": {
        "colab": {
          "base_uri": "https://localhost:8080/",
          "height": 300
        },
        "id": "IdYwbBgIuj01",
        "outputId": "d31adf51-0aa5-4dbb-935d-070dd6c3f452"
      },
      "execution_count": 45,
      "outputs": [
        {
          "output_type": "execute_result",
          "data": {
            "text/plain": [
              "              mpg   cylinders  displacement       weight  acceleration  \\\n",
              "count  398.000000  398.000000    398.000000   398.000000    398.000000   \n",
              "mean    23.514573    5.454774    193.425879  2970.424623     15.568090   \n",
              "std      7.815984    1.701004    104.269838   846.841774      2.757689   \n",
              "min      9.000000    3.000000     68.000000  1613.000000      8.000000   \n",
              "25%     17.500000    4.000000    104.250000  2223.750000     13.825000   \n",
              "50%     23.000000    4.000000    148.500000  2803.500000     15.500000   \n",
              "75%     29.000000    8.000000    262.000000  3608.000000     17.175000   \n",
              "max     46.600000    8.000000    455.000000  5140.000000     24.800000   \n",
              "\n",
              "       model_year      origin  \n",
              "count  398.000000  398.000000  \n",
              "mean    76.010050    1.572864  \n",
              "std      3.697627    0.802055  \n",
              "min     70.000000    1.000000  \n",
              "25%     73.000000    1.000000  \n",
              "50%     76.000000    1.000000  \n",
              "75%     79.000000    2.000000  \n",
              "max     82.000000    3.000000  "
            ],
            "text/html": [
              "\n",
              "  <div id=\"df-51b21f50-0d58-4265-a167-69cf8eccca8c\">\n",
              "    <div class=\"colab-df-container\">\n",
              "      <div>\n",
              "<style scoped>\n",
              "    .dataframe tbody tr th:only-of-type {\n",
              "        vertical-align: middle;\n",
              "    }\n",
              "\n",
              "    .dataframe tbody tr th {\n",
              "        vertical-align: top;\n",
              "    }\n",
              "\n",
              "    .dataframe thead th {\n",
              "        text-align: right;\n",
              "    }\n",
              "</style>\n",
              "<table border=\"1\" class=\"dataframe\">\n",
              "  <thead>\n",
              "    <tr style=\"text-align: right;\">\n",
              "      <th></th>\n",
              "      <th>mpg</th>\n",
              "      <th>cylinders</th>\n",
              "      <th>displacement</th>\n",
              "      <th>weight</th>\n",
              "      <th>acceleration</th>\n",
              "      <th>model_year</th>\n",
              "      <th>origin</th>\n",
              "    </tr>\n",
              "  </thead>\n",
              "  <tbody>\n",
              "    <tr>\n",
              "      <th>count</th>\n",
              "      <td>398.000000</td>\n",
              "      <td>398.000000</td>\n",
              "      <td>398.000000</td>\n",
              "      <td>398.000000</td>\n",
              "      <td>398.000000</td>\n",
              "      <td>398.000000</td>\n",
              "      <td>398.000000</td>\n",
              "    </tr>\n",
              "    <tr>\n",
              "      <th>mean</th>\n",
              "      <td>23.514573</td>\n",
              "      <td>5.454774</td>\n",
              "      <td>193.425879</td>\n",
              "      <td>2970.424623</td>\n",
              "      <td>15.568090</td>\n",
              "      <td>76.010050</td>\n",
              "      <td>1.572864</td>\n",
              "    </tr>\n",
              "    <tr>\n",
              "      <th>std</th>\n",
              "      <td>7.815984</td>\n",
              "      <td>1.701004</td>\n",
              "      <td>104.269838</td>\n",
              "      <td>846.841774</td>\n",
              "      <td>2.757689</td>\n",
              "      <td>3.697627</td>\n",
              "      <td>0.802055</td>\n",
              "    </tr>\n",
              "    <tr>\n",
              "      <th>min</th>\n",
              "      <td>9.000000</td>\n",
              "      <td>3.000000</td>\n",
              "      <td>68.000000</td>\n",
              "      <td>1613.000000</td>\n",
              "      <td>8.000000</td>\n",
              "      <td>70.000000</td>\n",
              "      <td>1.000000</td>\n",
              "    </tr>\n",
              "    <tr>\n",
              "      <th>25%</th>\n",
              "      <td>17.500000</td>\n",
              "      <td>4.000000</td>\n",
              "      <td>104.250000</td>\n",
              "      <td>2223.750000</td>\n",
              "      <td>13.825000</td>\n",
              "      <td>73.000000</td>\n",
              "      <td>1.000000</td>\n",
              "    </tr>\n",
              "    <tr>\n",
              "      <th>50%</th>\n",
              "      <td>23.000000</td>\n",
              "      <td>4.000000</td>\n",
              "      <td>148.500000</td>\n",
              "      <td>2803.500000</td>\n",
              "      <td>15.500000</td>\n",
              "      <td>76.000000</td>\n",
              "      <td>1.000000</td>\n",
              "    </tr>\n",
              "    <tr>\n",
              "      <th>75%</th>\n",
              "      <td>29.000000</td>\n",
              "      <td>8.000000</td>\n",
              "      <td>262.000000</td>\n",
              "      <td>3608.000000</td>\n",
              "      <td>17.175000</td>\n",
              "      <td>79.000000</td>\n",
              "      <td>2.000000</td>\n",
              "    </tr>\n",
              "    <tr>\n",
              "      <th>max</th>\n",
              "      <td>46.600000</td>\n",
              "      <td>8.000000</td>\n",
              "      <td>455.000000</td>\n",
              "      <td>5140.000000</td>\n",
              "      <td>24.800000</td>\n",
              "      <td>82.000000</td>\n",
              "      <td>3.000000</td>\n",
              "    </tr>\n",
              "  </tbody>\n",
              "</table>\n",
              "</div>\n",
              "      <button class=\"colab-df-convert\" onclick=\"convertToInteractive('df-51b21f50-0d58-4265-a167-69cf8eccca8c')\"\n",
              "              title=\"Convert this dataframe to an interactive table.\"\n",
              "              style=\"display:none;\">\n",
              "        \n",
              "  <svg xmlns=\"http://www.w3.org/2000/svg\" height=\"24px\"viewBox=\"0 0 24 24\"\n",
              "       width=\"24px\">\n",
              "    <path d=\"M0 0h24v24H0V0z\" fill=\"none\"/>\n",
              "    <path d=\"M18.56 5.44l.94 2.06.94-2.06 2.06-.94-2.06-.94-.94-2.06-.94 2.06-2.06.94zm-11 1L8.5 8.5l.94-2.06 2.06-.94-2.06-.94L8.5 2.5l-.94 2.06-2.06.94zm10 10l.94 2.06.94-2.06 2.06-.94-2.06-.94-.94-2.06-.94 2.06-2.06.94z\"/><path d=\"M17.41 7.96l-1.37-1.37c-.4-.4-.92-.59-1.43-.59-.52 0-1.04.2-1.43.59L10.3 9.45l-7.72 7.72c-.78.78-.78 2.05 0 2.83L4 21.41c.39.39.9.59 1.41.59.51 0 1.02-.2 1.41-.59l7.78-7.78 2.81-2.81c.8-.78.8-2.07 0-2.86zM5.41 20L4 18.59l7.72-7.72 1.47 1.35L5.41 20z\"/>\n",
              "  </svg>\n",
              "      </button>\n",
              "      \n",
              "  <style>\n",
              "    .colab-df-container {\n",
              "      display:flex;\n",
              "      flex-wrap:wrap;\n",
              "      gap: 12px;\n",
              "    }\n",
              "\n",
              "    .colab-df-convert {\n",
              "      background-color: #E8F0FE;\n",
              "      border: none;\n",
              "      border-radius: 50%;\n",
              "      cursor: pointer;\n",
              "      display: none;\n",
              "      fill: #1967D2;\n",
              "      height: 32px;\n",
              "      padding: 0 0 0 0;\n",
              "      width: 32px;\n",
              "    }\n",
              "\n",
              "    .colab-df-convert:hover {\n",
              "      background-color: #E2EBFA;\n",
              "      box-shadow: 0px 1px 2px rgba(60, 64, 67, 0.3), 0px 1px 3px 1px rgba(60, 64, 67, 0.15);\n",
              "      fill: #174EA6;\n",
              "    }\n",
              "\n",
              "    [theme=dark] .colab-df-convert {\n",
              "      background-color: #3B4455;\n",
              "      fill: #D2E3FC;\n",
              "    }\n",
              "\n",
              "    [theme=dark] .colab-df-convert:hover {\n",
              "      background-color: #434B5C;\n",
              "      box-shadow: 0px 1px 3px 1px rgba(0, 0, 0, 0.15);\n",
              "      filter: drop-shadow(0px 1px 2px rgba(0, 0, 0, 0.3));\n",
              "      fill: #FFFFFF;\n",
              "    }\n",
              "  </style>\n",
              "\n",
              "      <script>\n",
              "        const buttonEl =\n",
              "          document.querySelector('#df-51b21f50-0d58-4265-a167-69cf8eccca8c button.colab-df-convert');\n",
              "        buttonEl.style.display =\n",
              "          google.colab.kernel.accessAllowed ? 'block' : 'none';\n",
              "\n",
              "        async function convertToInteractive(key) {\n",
              "          const element = document.querySelector('#df-51b21f50-0d58-4265-a167-69cf8eccca8c');\n",
              "          const dataTable =\n",
              "            await google.colab.kernel.invokeFunction('convertToInteractive',\n",
              "                                                     [key], {});\n",
              "          if (!dataTable) return;\n",
              "\n",
              "          const docLinkHtml = 'Like what you see? Visit the ' +\n",
              "            '<a target=\"_blank\" href=https://colab.research.google.com/notebooks/data_table.ipynb>data table notebook</a>'\n",
              "            + ' to learn more about interactive tables.';\n",
              "          element.innerHTML = '';\n",
              "          dataTable['output_type'] = 'display_data';\n",
              "          await google.colab.output.renderOutput(dataTable, element);\n",
              "          const docLink = document.createElement('div');\n",
              "          docLink.innerHTML = docLinkHtml;\n",
              "          element.appendChild(docLink);\n",
              "        }\n",
              "      </script>\n",
              "    </div>\n",
              "  </div>\n",
              "  "
            ]
          },
          "metadata": {},
          "execution_count": 45
        }
      ]
    },
    {
      "cell_type": "code",
      "source": [
        "# Compute pairwise correlations between columns\n",
        "correlation_mtx = df.corr()\n",
        "\n",
        "print(correlation_mtx)"
      ],
      "metadata": {
        "colab": {
          "base_uri": "https://localhost:8080/"
        },
        "id": "ex-pq86ahB29",
        "outputId": "12d934c7-b7ab-4af7-d071-61a5efce73a7"
      },
      "execution_count": 46,
      "outputs": [
        {
          "output_type": "stream",
          "name": "stdout",
          "text": [
            "                   mpg  cylinders  displacement    weight  acceleration  \\\n",
            "mpg           1.000000  -0.775396     -0.804203 -0.831741      0.420289   \n",
            "cylinders    -0.775396   1.000000      0.950721  0.896017     -0.505419   \n",
            "displacement -0.804203   0.950721      1.000000  0.932824     -0.543684   \n",
            "weight       -0.831741   0.896017      0.932824  1.000000     -0.417457   \n",
            "acceleration  0.420289  -0.505419     -0.543684 -0.417457      1.000000   \n",
            "model_year    0.579267  -0.348746     -0.370164 -0.306564      0.288137   \n",
            "origin        0.563450  -0.562543     -0.609409 -0.581024      0.205873   \n",
            "\n",
            "              model_year    origin  \n",
            "mpg             0.579267  0.563450  \n",
            "cylinders      -0.348746 -0.562543  \n",
            "displacement   -0.370164 -0.609409  \n",
            "weight         -0.306564 -0.581024  \n",
            "acceleration    0.288137  0.205873  \n",
            "model_year      1.000000  0.180662  \n",
            "origin          0.180662  1.000000  \n"
          ]
        }
      ]
    },
    {
      "cell_type": "markdown",
      "source": [
        "Correlation\n",
        "Definition 0.1. Correlation analysis measures how closely related two variables are.\n",
        "• A positive correlation indicates that both variables tend to increase or decrease together.\n",
        "• A negative correlation indicates that as one variable increases the other tends to decrease.\n",
        "• It is important not to confuse correlation with causation!\n",
        "The strength of a correlations is measured between 0 and 1.\n",
        "• 0.00 − 0.19 is a very weak correlation/no correlation.\n",
        "\n",
        "> Indented block\n",
        "\n",
        "> Indented block\n",
        "\n",
        "\n",
        "\n",
        "\n",
        "• 0.2 − 0.39 a weak correlation.\n",
        "• 0.4 − 0.59 is a moderate correlation.\n",
        "• 0.6 − 0.79 is a strong correlation.\n",
        "• 0.8 − 1 is a very strong correlation."
      ],
      "metadata": {
        "id": "UM1v0BaAv2I4"
      }
    },
    {
      "cell_type": "code",
      "source": [
        "# Check Correlation analysis measures \n",
        "high_corr = correlation_mtx.abs() > 0.7\n",
        "print(high_corr)\n",
        "\n",
        "for col in high_corr.columns:\n",
        "    correlated_cols = list(high_corr[col][high_corr[col]].index)\n",
        "    if len(correlated_cols) > 1:\n",
        "        print(f\"{col} is highly correlated with {correlated_cols}\")\n",
        "    else:\n",
        "      print(f\"{col} is not correlated with {correlated_cols}\")\n"
      ],
      "metadata": {
        "colab": {
          "base_uri": "https://localhost:8080/"
        },
        "id": "uEHypFuqurtt",
        "outputId": "52a273df-47ba-490a-e6aa-466c4169cc78"
      },
      "execution_count": 47,
      "outputs": [
        {
          "output_type": "stream",
          "name": "stdout",
          "text": [
            "                mpg  cylinders  displacement  weight  acceleration  \\\n",
            "mpg            True       True          True    True         False   \n",
            "cylinders      True       True          True    True         False   \n",
            "displacement   True       True          True    True         False   \n",
            "weight         True       True          True    True         False   \n",
            "acceleration  False      False         False   False          True   \n",
            "model_year    False      False         False   False         False   \n",
            "origin        False      False         False   False         False   \n",
            "\n",
            "              model_year  origin  \n",
            "mpg                False   False  \n",
            "cylinders          False   False  \n",
            "displacement       False   False  \n",
            "weight             False   False  \n",
            "acceleration       False   False  \n",
            "model_year          True   False  \n",
            "origin             False    True  \n",
            "mpg is highly correlated with ['mpg', 'cylinders', 'displacement', 'weight']\n",
            "cylinders is highly correlated with ['mpg', 'cylinders', 'displacement', 'weight']\n",
            "displacement is highly correlated with ['mpg', 'cylinders', 'displacement', 'weight']\n",
            "weight is highly correlated with ['mpg', 'cylinders', 'displacement', 'weight']\n",
            "acceleration is not correlated with ['acceleration']\n",
            "model_year is not correlated with ['model_year']\n",
            "origin is not correlated with ['origin']\n"
          ]
        }
      ]
    },
    {
      "cell_type": "markdown",
      "source": [
        "From the result set, i noticed that i have 3 highly correlated column variables which are suggested to be cylinders, displacement and weight and our target variable is mpg column."
      ],
      "metadata": {
        "id": "n85uGMidyG4v"
      }
    },
    {
      "cell_type": "markdown",
      "source": [
        "#** Creating a simple OLS model**"
      ],
      "metadata": {
        "id": "vHPyNFPQ1J6Q"
      }
    },
    {
      "cell_type": "code",
      "source": [
        "# Define predictors:\n",
        "predictors = df[['cylinders','displacement', 'weight']]\n",
        "print(predictors)"
      ],
      "metadata": {
        "colab": {
          "base_uri": "https://localhost:8080/"
        },
        "id": "nuRmC57R1Fnw",
        "outputId": "dfc27496-59d2-4192-f7b4-b1bcc497e4e0"
      },
      "execution_count": 48,
      "outputs": [
        {
          "output_type": "stream",
          "name": "stdout",
          "text": [
            "     cylinders  displacement  weight\n",
            "0            8         307.0  3504.0\n",
            "1            8         350.0  3693.0\n",
            "2            8         318.0  3436.0\n",
            "3            8         304.0  3433.0\n",
            "4            8         302.0  3449.0\n",
            "..         ...           ...     ...\n",
            "393          4         140.0  2790.0\n",
            "394          4          97.0  2130.0\n",
            "395          4         135.0  2295.0\n",
            "396          4         120.0  2625.0\n",
            "397          4         119.0  2720.0\n",
            "\n",
            "[398 rows x 3 columns]\n"
          ]
        }
      ]
    },
    {
      "cell_type": "code",
      "source": [
        "# create and assign X to predictors \n",
        "X = predictors\n",
        "print(X)"
      ],
      "metadata": {
        "colab": {
          "base_uri": "https://localhost:8080/"
        },
        "id": "5yNT-9SF8YW7",
        "outputId": "91f02e74-adb6-4da6-ddc5-e7acd3d34833"
      },
      "execution_count": 49,
      "outputs": [
        {
          "output_type": "stream",
          "name": "stdout",
          "text": [
            "     cylinders  displacement  weight\n",
            "0            8         307.0  3504.0\n",
            "1            8         350.0  3693.0\n",
            "2            8         318.0  3436.0\n",
            "3            8         304.0  3433.0\n",
            "4            8         302.0  3449.0\n",
            "..         ...           ...     ...\n",
            "393          4         140.0  2790.0\n",
            "394          4          97.0  2130.0\n",
            "395          4         135.0  2295.0\n",
            "396          4         120.0  2625.0\n",
            "397          4         119.0  2720.0\n",
            "\n",
            "[398 rows x 3 columns]\n"
          ]
        }
      ]
    },
    {
      "cell_type": "code",
      "source": [
        "# Define outcome:\n",
        "outcome = df['mpg']\n",
        "print(outcome)"
      ],
      "metadata": {
        "colab": {
          "base_uri": "https://localhost:8080/"
        },
        "id": "H2WsB5C74mgD",
        "outputId": "cc0f3662-351f-45d2-f27f-5eb55a9b64d6"
      },
      "execution_count": 50,
      "outputs": [
        {
          "output_type": "stream",
          "name": "stdout",
          "text": [
            "0      18.0\n",
            "1      15.0\n",
            "2      18.0\n",
            "3      16.0\n",
            "4      17.0\n",
            "       ... \n",
            "393    27.0\n",
            "394    44.0\n",
            "395    32.0\n",
            "396    28.0\n",
            "397    31.0\n",
            "Name: mpg, Length: 398, dtype: float64\n"
          ]
        }
      ]
    },
    {
      "cell_type": "code",
      "source": [
        "# Create and assign y for outcome variable\n",
        "y = outcome"
      ],
      "metadata": {
        "id": "uBCMMoDW8hQ9"
      },
      "execution_count": 51,
      "outputs": []
    },
    {
      "cell_type": "markdown",
      "source": [
        "**Create a simple OLS Model** "
      ],
      "metadata": {
        "id": "jTvQSk8j6A-j"
      }
    },
    {
      "cell_type": "code",
      "source": [
        "#Import libraries\n",
        "import statsmodels.api as sm\n",
        "from statsmodels.formula.api import glm\n",
        "import matplotlib.pyplot as plt\n",
        "\n",
        "# Add a constant to the predictor variables\n",
        "X = sm.add_constant(X)\n",
        "\n",
        "# Fit the OLS model\n",
        "model = sm.OLS(y, X).fit()\n",
        "\n",
        "# Print a summary of the model\n",
        "print(model.summary())\n",
        "\n",
        "\n"
      ],
      "metadata": {
        "colab": {
          "base_uri": "https://localhost:8080/"
        },
        "id": "27SZv_Hi4utq",
        "outputId": "8df75dde-60ca-44cc-d030-d8780dfa2e53"
      },
      "execution_count": 52,
      "outputs": [
        {
          "output_type": "stream",
          "name": "stdout",
          "text": [
            "                            OLS Regression Results                            \n",
            "==============================================================================\n",
            "Dep. Variable:                    mpg   R-squared:                       0.698\n",
            "Model:                            OLS   Adj. R-squared:                  0.696\n",
            "Method:                 Least Squares   F-statistic:                     303.9\n",
            "Date:                Sun, 26 Mar 2023   Prob (F-statistic):          4.12e-102\n",
            "Time:                        03:45:24   Log-Likelihood:                -1144.2\n",
            "No. Observations:                 398   AIC:                             2296.\n",
            "Df Residuals:                     394   BIC:                             2312.\n",
            "Df Model:                           3                                         \n",
            "Covariance Type:            nonrobust                                         \n",
            "================================================================================\n",
            "                   coef    std err          t      P>|t|      [0.025      0.975]\n",
            "--------------------------------------------------------------------------------\n",
            "const           44.4472      1.482     29.989      0.000      41.533      47.361\n",
            "cylinders       -0.2439      0.412     -0.593      0.554      -1.053       0.565\n",
            "displacement    -0.0128      0.008     -1.552      0.122      -0.029       0.003\n",
            "weight          -0.0058      0.001     -8.103      0.000      -0.007      -0.004\n",
            "==============================================================================\n",
            "Omnibus:                       44.949   Durbin-Watson:                   0.824\n",
            "Prob(Omnibus):                  0.000   Jarque-Bera (JB):               66.715\n",
            "Skew:                           0.751   Prob(JB):                     3.26e-15\n",
            "Kurtosis:                       4.329   Cond. No.                     2.16e+04\n",
            "==============================================================================\n",
            "\n",
            "Notes:\n",
            "[1] Standard Errors assume that the covariance matrix of the errors is correctly specified.\n",
            "[2] The condition number is large, 2.16e+04. This might indicate that there are\n",
            "strong multicollinearity or other numerical problems.\n"
          ]
        }
      ]
    },
    {
      "cell_type": "markdown",
      "source": [
        "**Create a OLS model with Dummy variables**"
      ],
      "metadata": {
        "id": "-_bBJYP888Jm"
      }
    },
    {
      "cell_type": "code",
      "source": [
        "# Create dummy variables for the 'origin' column\n",
        "origin_dummies = pd.get_dummies(df['origin'], prefix='origin')\n",
        "\n",
        "# Concatenate the original DataFrame with the dummy variables\n",
        "df = pd.concat([df, origin_dummies], axis=1)"
      ],
      "metadata": {
        "id": "PUHPppyb7TW4"
      },
      "execution_count": 53,
      "outputs": []
    },
    {
      "cell_type": "code",
      "source": [
        "df"
      ],
      "metadata": {
        "colab": {
          "base_uri": "https://localhost:8080/",
          "height": 423
        },
        "id": "V7aU_89l-yAS",
        "outputId": "1238bf87-99c5-4937-94ae-aece6940b68a"
      },
      "execution_count": 54,
      "outputs": [
        {
          "output_type": "execute_result",
          "data": {
            "text/plain": [
              "      mpg  cylinders  displacement horsepower  weight  acceleration  \\\n",
              "0    18.0          8         307.0      130.0  3504.0          12.0   \n",
              "1    15.0          8         350.0      165.0  3693.0          11.5   \n",
              "2    18.0          8         318.0      150.0  3436.0          11.0   \n",
              "3    16.0          8         304.0      150.0  3433.0          12.0   \n",
              "4    17.0          8         302.0      140.0  3449.0          10.5   \n",
              "..    ...        ...           ...        ...     ...           ...   \n",
              "393  27.0          4         140.0      86.00  2790.0          15.6   \n",
              "394  44.0          4          97.0      52.00  2130.0          24.6   \n",
              "395  32.0          4         135.0      84.00  2295.0          11.6   \n",
              "396  28.0          4         120.0      79.00  2625.0          18.6   \n",
              "397  31.0          4         119.0      82.00  2720.0          19.4   \n",
              "\n",
              "     model_year  origin                   car_name  origin_1  origin_2  \\\n",
              "0            70       1  chevrolet chevelle malibu         1         0   \n",
              "1            70       1          buick skylark 320         1         0   \n",
              "2            70       1         plymouth satellite         1         0   \n",
              "3            70       1              amc rebel sst         1         0   \n",
              "4            70       1                ford torino         1         0   \n",
              "..          ...     ...                        ...       ...       ...   \n",
              "393          82       1            ford mustang gl         1         0   \n",
              "394          82       2                  vw pickup         0         1   \n",
              "395          82       1              dodge rampage         1         0   \n",
              "396          82       1                ford ranger         1         0   \n",
              "397          82       1                 chevy s-10         1         0   \n",
              "\n",
              "     origin_3  \n",
              "0           0  \n",
              "1           0  \n",
              "2           0  \n",
              "3           0  \n",
              "4           0  \n",
              "..        ...  \n",
              "393         0  \n",
              "394         0  \n",
              "395         0  \n",
              "396         0  \n",
              "397         0  \n",
              "\n",
              "[398 rows x 12 columns]"
            ],
            "text/html": [
              "\n",
              "  <div id=\"df-bf8d58c1-dfbc-4651-8892-b28666ddba48\">\n",
              "    <div class=\"colab-df-container\">\n",
              "      <div>\n",
              "<style scoped>\n",
              "    .dataframe tbody tr th:only-of-type {\n",
              "        vertical-align: middle;\n",
              "    }\n",
              "\n",
              "    .dataframe tbody tr th {\n",
              "        vertical-align: top;\n",
              "    }\n",
              "\n",
              "    .dataframe thead th {\n",
              "        text-align: right;\n",
              "    }\n",
              "</style>\n",
              "<table border=\"1\" class=\"dataframe\">\n",
              "  <thead>\n",
              "    <tr style=\"text-align: right;\">\n",
              "      <th></th>\n",
              "      <th>mpg</th>\n",
              "      <th>cylinders</th>\n",
              "      <th>displacement</th>\n",
              "      <th>horsepower</th>\n",
              "      <th>weight</th>\n",
              "      <th>acceleration</th>\n",
              "      <th>model_year</th>\n",
              "      <th>origin</th>\n",
              "      <th>car_name</th>\n",
              "      <th>origin_1</th>\n",
              "      <th>origin_2</th>\n",
              "      <th>origin_3</th>\n",
              "    </tr>\n",
              "  </thead>\n",
              "  <tbody>\n",
              "    <tr>\n",
              "      <th>0</th>\n",
              "      <td>18.0</td>\n",
              "      <td>8</td>\n",
              "      <td>307.0</td>\n",
              "      <td>130.0</td>\n",
              "      <td>3504.0</td>\n",
              "      <td>12.0</td>\n",
              "      <td>70</td>\n",
              "      <td>1</td>\n",
              "      <td>chevrolet chevelle malibu</td>\n",
              "      <td>1</td>\n",
              "      <td>0</td>\n",
              "      <td>0</td>\n",
              "    </tr>\n",
              "    <tr>\n",
              "      <th>1</th>\n",
              "      <td>15.0</td>\n",
              "      <td>8</td>\n",
              "      <td>350.0</td>\n",
              "      <td>165.0</td>\n",
              "      <td>3693.0</td>\n",
              "      <td>11.5</td>\n",
              "      <td>70</td>\n",
              "      <td>1</td>\n",
              "      <td>buick skylark 320</td>\n",
              "      <td>1</td>\n",
              "      <td>0</td>\n",
              "      <td>0</td>\n",
              "    </tr>\n",
              "    <tr>\n",
              "      <th>2</th>\n",
              "      <td>18.0</td>\n",
              "      <td>8</td>\n",
              "      <td>318.0</td>\n",
              "      <td>150.0</td>\n",
              "      <td>3436.0</td>\n",
              "      <td>11.0</td>\n",
              "      <td>70</td>\n",
              "      <td>1</td>\n",
              "      <td>plymouth satellite</td>\n",
              "      <td>1</td>\n",
              "      <td>0</td>\n",
              "      <td>0</td>\n",
              "    </tr>\n",
              "    <tr>\n",
              "      <th>3</th>\n",
              "      <td>16.0</td>\n",
              "      <td>8</td>\n",
              "      <td>304.0</td>\n",
              "      <td>150.0</td>\n",
              "      <td>3433.0</td>\n",
              "      <td>12.0</td>\n",
              "      <td>70</td>\n",
              "      <td>1</td>\n",
              "      <td>amc rebel sst</td>\n",
              "      <td>1</td>\n",
              "      <td>0</td>\n",
              "      <td>0</td>\n",
              "    </tr>\n",
              "    <tr>\n",
              "      <th>4</th>\n",
              "      <td>17.0</td>\n",
              "      <td>8</td>\n",
              "      <td>302.0</td>\n",
              "      <td>140.0</td>\n",
              "      <td>3449.0</td>\n",
              "      <td>10.5</td>\n",
              "      <td>70</td>\n",
              "      <td>1</td>\n",
              "      <td>ford torino</td>\n",
              "      <td>1</td>\n",
              "      <td>0</td>\n",
              "      <td>0</td>\n",
              "    </tr>\n",
              "    <tr>\n",
              "      <th>...</th>\n",
              "      <td>...</td>\n",
              "      <td>...</td>\n",
              "      <td>...</td>\n",
              "      <td>...</td>\n",
              "      <td>...</td>\n",
              "      <td>...</td>\n",
              "      <td>...</td>\n",
              "      <td>...</td>\n",
              "      <td>...</td>\n",
              "      <td>...</td>\n",
              "      <td>...</td>\n",
              "      <td>...</td>\n",
              "    </tr>\n",
              "    <tr>\n",
              "      <th>393</th>\n",
              "      <td>27.0</td>\n",
              "      <td>4</td>\n",
              "      <td>140.0</td>\n",
              "      <td>86.00</td>\n",
              "      <td>2790.0</td>\n",
              "      <td>15.6</td>\n",
              "      <td>82</td>\n",
              "      <td>1</td>\n",
              "      <td>ford mustang gl</td>\n",
              "      <td>1</td>\n",
              "      <td>0</td>\n",
              "      <td>0</td>\n",
              "    </tr>\n",
              "    <tr>\n",
              "      <th>394</th>\n",
              "      <td>44.0</td>\n",
              "      <td>4</td>\n",
              "      <td>97.0</td>\n",
              "      <td>52.00</td>\n",
              "      <td>2130.0</td>\n",
              "      <td>24.6</td>\n",
              "      <td>82</td>\n",
              "      <td>2</td>\n",
              "      <td>vw pickup</td>\n",
              "      <td>0</td>\n",
              "      <td>1</td>\n",
              "      <td>0</td>\n",
              "    </tr>\n",
              "    <tr>\n",
              "      <th>395</th>\n",
              "      <td>32.0</td>\n",
              "      <td>4</td>\n",
              "      <td>135.0</td>\n",
              "      <td>84.00</td>\n",
              "      <td>2295.0</td>\n",
              "      <td>11.6</td>\n",
              "      <td>82</td>\n",
              "      <td>1</td>\n",
              "      <td>dodge rampage</td>\n",
              "      <td>1</td>\n",
              "      <td>0</td>\n",
              "      <td>0</td>\n",
              "    </tr>\n",
              "    <tr>\n",
              "      <th>396</th>\n",
              "      <td>28.0</td>\n",
              "      <td>4</td>\n",
              "      <td>120.0</td>\n",
              "      <td>79.00</td>\n",
              "      <td>2625.0</td>\n",
              "      <td>18.6</td>\n",
              "      <td>82</td>\n",
              "      <td>1</td>\n",
              "      <td>ford ranger</td>\n",
              "      <td>1</td>\n",
              "      <td>0</td>\n",
              "      <td>0</td>\n",
              "    </tr>\n",
              "    <tr>\n",
              "      <th>397</th>\n",
              "      <td>31.0</td>\n",
              "      <td>4</td>\n",
              "      <td>119.0</td>\n",
              "      <td>82.00</td>\n",
              "      <td>2720.0</td>\n",
              "      <td>19.4</td>\n",
              "      <td>82</td>\n",
              "      <td>1</td>\n",
              "      <td>chevy s-10</td>\n",
              "      <td>1</td>\n",
              "      <td>0</td>\n",
              "      <td>0</td>\n",
              "    </tr>\n",
              "  </tbody>\n",
              "</table>\n",
              "<p>398 rows × 12 columns</p>\n",
              "</div>\n",
              "      <button class=\"colab-df-convert\" onclick=\"convertToInteractive('df-bf8d58c1-dfbc-4651-8892-b28666ddba48')\"\n",
              "              title=\"Convert this dataframe to an interactive table.\"\n",
              "              style=\"display:none;\">\n",
              "        \n",
              "  <svg xmlns=\"http://www.w3.org/2000/svg\" height=\"24px\"viewBox=\"0 0 24 24\"\n",
              "       width=\"24px\">\n",
              "    <path d=\"M0 0h24v24H0V0z\" fill=\"none\"/>\n",
              "    <path d=\"M18.56 5.44l.94 2.06.94-2.06 2.06-.94-2.06-.94-.94-2.06-.94 2.06-2.06.94zm-11 1L8.5 8.5l.94-2.06 2.06-.94-2.06-.94L8.5 2.5l-.94 2.06-2.06.94zm10 10l.94 2.06.94-2.06 2.06-.94-2.06-.94-.94-2.06-.94 2.06-2.06.94z\"/><path d=\"M17.41 7.96l-1.37-1.37c-.4-.4-.92-.59-1.43-.59-.52 0-1.04.2-1.43.59L10.3 9.45l-7.72 7.72c-.78.78-.78 2.05 0 2.83L4 21.41c.39.39.9.59 1.41.59.51 0 1.02-.2 1.41-.59l7.78-7.78 2.81-2.81c.8-.78.8-2.07 0-2.86zM5.41 20L4 18.59l7.72-7.72 1.47 1.35L5.41 20z\"/>\n",
              "  </svg>\n",
              "      </button>\n",
              "      \n",
              "  <style>\n",
              "    .colab-df-container {\n",
              "      display:flex;\n",
              "      flex-wrap:wrap;\n",
              "      gap: 12px;\n",
              "    }\n",
              "\n",
              "    .colab-df-convert {\n",
              "      background-color: #E8F0FE;\n",
              "      border: none;\n",
              "      border-radius: 50%;\n",
              "      cursor: pointer;\n",
              "      display: none;\n",
              "      fill: #1967D2;\n",
              "      height: 32px;\n",
              "      padding: 0 0 0 0;\n",
              "      width: 32px;\n",
              "    }\n",
              "\n",
              "    .colab-df-convert:hover {\n",
              "      background-color: #E2EBFA;\n",
              "      box-shadow: 0px 1px 2px rgba(60, 64, 67, 0.3), 0px 1px 3px 1px rgba(60, 64, 67, 0.15);\n",
              "      fill: #174EA6;\n",
              "    }\n",
              "\n",
              "    [theme=dark] .colab-df-convert {\n",
              "      background-color: #3B4455;\n",
              "      fill: #D2E3FC;\n",
              "    }\n",
              "\n",
              "    [theme=dark] .colab-df-convert:hover {\n",
              "      background-color: #434B5C;\n",
              "      box-shadow: 0px 1px 3px 1px rgba(0, 0, 0, 0.15);\n",
              "      filter: drop-shadow(0px 1px 2px rgba(0, 0, 0, 0.3));\n",
              "      fill: #FFFFFF;\n",
              "    }\n",
              "  </style>\n",
              "\n",
              "      <script>\n",
              "        const buttonEl =\n",
              "          document.querySelector('#df-bf8d58c1-dfbc-4651-8892-b28666ddba48 button.colab-df-convert');\n",
              "        buttonEl.style.display =\n",
              "          google.colab.kernel.accessAllowed ? 'block' : 'none';\n",
              "\n",
              "        async function convertToInteractive(key) {\n",
              "          const element = document.querySelector('#df-bf8d58c1-dfbc-4651-8892-b28666ddba48');\n",
              "          const dataTable =\n",
              "            await google.colab.kernel.invokeFunction('convertToInteractive',\n",
              "                                                     [key], {});\n",
              "          if (!dataTable) return;\n",
              "\n",
              "          const docLinkHtml = 'Like what you see? Visit the ' +\n",
              "            '<a target=\"_blank\" href=https://colab.research.google.com/notebooks/data_table.ipynb>data table notebook</a>'\n",
              "            + ' to learn more about interactive tables.';\n",
              "          element.innerHTML = '';\n",
              "          dataTable['output_type'] = 'display_data';\n",
              "          await google.colab.output.renderOutput(dataTable, element);\n",
              "          const docLink = document.createElement('div');\n",
              "          docLink.innerHTML = docLinkHtml;\n",
              "          element.appendChild(docLink);\n",
              "        }\n",
              "      </script>\n",
              "    </div>\n",
              "  </div>\n",
              "  "
            ]
          },
          "metadata": {},
          "execution_count": 54
        }
      ]
    },
    {
      "cell_type": "code",
      "source": [
        "# Independent variables\n",
        "X_dummy = df[['cylinders','displacement','weight','origin_1', 'origin_2', 'origin_3']]\n",
        "X_dummy.size"
      ],
      "metadata": {
        "colab": {
          "base_uri": "https://localhost:8080/"
        },
        "id": "mA58Q34Y-yxJ",
        "outputId": "2f1c36f4-dbf1-4d18-f0bb-76dd07bc6ba2"
      },
      "execution_count": 55,
      "outputs": [
        {
          "output_type": "execute_result",
          "data": {
            "text/plain": [
              "2388"
            ]
          },
          "metadata": {},
          "execution_count": 55
        }
      ]
    },
    {
      "cell_type": "code",
      "source": [
        "# response variable:\n",
        "y_dummy = df['mpg']"
      ],
      "metadata": {
        "id": "53NI4C8d_0Ob"
      },
      "execution_count": 56,
      "outputs": []
    },
    {
      "cell_type": "code",
      "source": [
        "# build ols model with dummies data:\n",
        "\n",
        "# Add a constant to the predictor variables\n",
        "X_dummy = sm.add_constant(X)\n",
        "\n",
        "# Fit the OLS model\n",
        "model = sm.OLS(y_dummy, X_dummy).fit()\n",
        "\n",
        "# Print a summary of the model\n",
        "print(model.summary())\n"
      ],
      "metadata": {
        "colab": {
          "base_uri": "https://localhost:8080/"
        },
        "id": "9xIhvUlr_9hS",
        "outputId": "d6a58a1b-dcfa-4b36-b75e-8d2b32110939"
      },
      "execution_count": 57,
      "outputs": [
        {
          "output_type": "stream",
          "name": "stdout",
          "text": [
            "                            OLS Regression Results                            \n",
            "==============================================================================\n",
            "Dep. Variable:                    mpg   R-squared:                       0.698\n",
            "Model:                            OLS   Adj. R-squared:                  0.696\n",
            "Method:                 Least Squares   F-statistic:                     303.9\n",
            "Date:                Sun, 26 Mar 2023   Prob (F-statistic):          4.12e-102\n",
            "Time:                        03:45:37   Log-Likelihood:                -1144.2\n",
            "No. Observations:                 398   AIC:                             2296.\n",
            "Df Residuals:                     394   BIC:                             2312.\n",
            "Df Model:                           3                                         \n",
            "Covariance Type:            nonrobust                                         \n",
            "================================================================================\n",
            "                   coef    std err          t      P>|t|      [0.025      0.975]\n",
            "--------------------------------------------------------------------------------\n",
            "const           44.4472      1.482     29.989      0.000      41.533      47.361\n",
            "cylinders       -0.2439      0.412     -0.593      0.554      -1.053       0.565\n",
            "displacement    -0.0128      0.008     -1.552      0.122      -0.029       0.003\n",
            "weight          -0.0058      0.001     -8.103      0.000      -0.007      -0.004\n",
            "==============================================================================\n",
            "Omnibus:                       44.949   Durbin-Watson:                   0.824\n",
            "Prob(Omnibus):                  0.000   Jarque-Bera (JB):               66.715\n",
            "Skew:                           0.751   Prob(JB):                     3.26e-15\n",
            "Kurtosis:                       4.329   Cond. No.                     2.16e+04\n",
            "==============================================================================\n",
            "\n",
            "Notes:\n",
            "[1] Standard Errors assume that the covariance matrix of the errors is correctly specified.\n",
            "[2] The condition number is large, 2.16e+04. This might indicate that there are\n",
            "strong multicollinearity or other numerical problems.\n"
          ]
        }
      ]
    },
    {
      "cell_type": "code",
      "source": [
        "# Check for multicollinearity:\n",
        "import pandas as pd\n",
        "from statsmodels.stats.outliers_influence import variance_inflation_factor\n",
        "vif = pd.DataFrame()\n",
        "vif[\"VIF Factor\"] = [variance_inflation_factor(X.values, i) for i in range(X.shape[1])]\n",
        "vif[\"features\"] = X.columns\n",
        "print(vif)"
      ],
      "metadata": {
        "colab": {
          "base_uri": "https://localhost:8080/"
        },
        "id": "BaZZvoZiF2bO",
        "outputId": "a4de05e5-60eb-4ace-b3cf-ecc7e3d5c2c5"
      },
      "execution_count": 59,
      "outputs": [
        {
          "output_type": "stream",
          "name": "stdout",
          "text": [
            "   VIF Factor      features\n",
            "0   47.069805         const\n",
            "1   10.473126     cylinders\n",
            "2   15.902894  displacement\n",
            "3    7.753976        weight\n"
          ]
        }
      ]
    },
    {
      "cell_type": "markdown",
      "source": [
        "This code is saying that for each variable in the range of the independent variables containing the predictor variables we want to check for multicollinearity (in this case, 'var1', 'var2', 'var3', and 'var4'). The X.shape[1] expression returns the number of columns in X, which is 4 in this case.Then use the variance_inflation_factor() function from the statsmodels.stats.outliers_influence module to calculate the VIF for each variable. The VIF values are stored in a DataFrame along with the variable names, and printed to the console.\n",
        "\n",
        "If any variables have a VIF value greater than 5 or 10 (depending on the specific context), they may be highly correlated with other variables in the model and should be investigated further."
      ],
      "metadata": {
        "id": "VNQ9HJbkGDoj"
      }
    },
    {
      "cell_type": "code",
      "source": [],
      "metadata": {
        "id": "SFBJKFKVG8hC"
      },
      "execution_count": null,
      "outputs": []
    }
  ]
}